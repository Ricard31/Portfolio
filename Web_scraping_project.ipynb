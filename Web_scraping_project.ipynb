{
 "cells": [
  {
   "cell_type": "markdown",
   "metadata": {},
   "source": [
    "# Web scrapping \n",
    "## Data obtained from the games of the main football leagues in Europe\n",
    "\n",
    "The data was obtained from the spanish website as.com\n",
    "\n",
    "I created a function that obtains the data from the football games of a given season and then computes the number of goals scored by local and away teams. Here it is the function:"
   ]
  },
  {
   "cell_type": "code",
   "execution_count": 1,
   "metadata": {},
   "outputs": [],
   "source": [
    "import pandas as pd\n",
    "import requests\n",
    "from bs4 import BeautifulSoup"
   ]
  },
  {
   "cell_type": "code",
   "execution_count": 2,
   "metadata": {},
   "outputs": [],
   "source": [
    "def goles_loc_vis(url,num_jor):\n",
    "    \n",
    "    page = requests.get(url)\n",
    "    soup = BeautifulSoup(page.content, 'html.parser')\n",
    "\n",
    "    ### jor_1= jornadas[1]\n",
    "    str_jor = []\n",
    "    jornadas = []\n",
    "    jornadas2 = []\n",
    "    for i in range(0, num_jor):\n",
    "        str_jor.append(\"jornada-%s\" %(i+1))\n",
    "    \n",
    "    goles_locales = 0\n",
    "    goles_visitantes = 0\n",
    "    ########################\n",
    "    for i in range(0,num_jor):\n",
    "        jor_1 = soup.find(id=str_jor[i])\n",
    "        games_jor_1 = jor_1.find_all('tr', itemscope=\"\")\n",
    "    #games_jor_1---- list of strings that match the search criteria\n",
    "\n",
    "        game_1_jor_1 = games_jor_1[1] #Starting by 1, game 1\n",
    "\n",
    "        datos_tags = jor_1.select(\"tr > td \")\n",
    "        datos = [gt.get_text() for gt in datos_tags]\n",
    "\n",
    "        Locales_1 = []\n",
    "        Resultados_1 = []\n",
    "        Visitantes_1 = []\n",
    "        for idx in range(0, len(datos)):\n",
    "            if idx % 3 == 0:\n",
    "                Locales_1.append(datos[idx].replace ('\\n', ''))\n",
    "            elif (idx - 1) % 3 == 0:\n",
    "                Resultados_1.append(datos[idx].replace ('\\n', '').replace('  ',''))\n",
    "            else: \n",
    "                Visitantes_1.append(datos[idx].replace ('\\n', ''))\n",
    "    \n",
    "      \n",
    "        #### crear dataframe con resultado como bloque\n",
    "        jor1 = pd.DataFrame({\n",
    "            \"Local\": Locales_1, \n",
    "            \"Resultado\": Resultados_1, \n",
    "            \"Visitante\": Visitantes_1\n",
    "        })\n",
    "    \n",
    "        jornadas.append(jor1)\n",
    "        \n",
    "\n",
    "        ######----- crear data-frame con goles loc y vis separados: jor2\n",
    "    \n",
    "        local_goals = jornadas[i][\"Resultado\"].str.extract(\"(?P<local_goals>\\d+)\", expand=False)\n",
    "        local_goals = local_goals.astype('int')\n",
    "    \n",
    "        away_goals = jornadas[i][\"Resultado\"].str.extract(\"(?P<away_goals>\\ \\d+)\", expand=False)\n",
    "\n",
    "        away_goals = away_goals.astype('int')\n",
    "    \n",
    "    \n",
    "        goles_locales = goles_locales + pd.Series.sum(local_goals)\n",
    "    \n",
    "        goles_visitantes = goles_visitantes + pd.Series.sum(away_goals)\n",
    "    \n",
    "        jor2 = pd.DataFrame({\n",
    "            \"Local\": Locales_1, \n",
    "            \"GL\": local_goals, \n",
    "            \"GV\": away_goals,\n",
    "            \"Visitante\": Visitantes_1\n",
    "        })\n",
    "    \n",
    "        jornadas2.append(jor2)\n",
    "    \n",
    "    \n",
    "    #Change the order of the columns from jornadas2\n",
    "    for i in range(0,len(jornadas2)):\n",
    "        jornadas2[i] = jornadas2[i][['Local', 'GL', 'GV', 'Visitante']] \n",
    "    \n",
    "    \n",
    "    print ('Number of (Local goals, away goals): \\n')\n",
    "    print (goles_locales,goles_visitantes)\n",
    "        \n",
    "    return goles_locales,goles_visitantes, jornadas2"
   ]
  },
  {
   "cell_type": "markdown",
   "metadata": {},
   "source": [
    "Here are some examples to ilustrate the use of the function:"
   ]
  },
  {
   "cell_type": "code",
   "execution_count": 3,
   "metadata": {},
   "outputs": [
    {
     "name": "stdout",
     "output_type": "stream",
     "text": [
      "Number of (Local goals, away goals): \n",
      "\n",
      "632 486\n"
     ]
    }
   ],
   "source": [
    "#Function applied to the Spanish Division 2016-17 League\n",
    "\n",
    "(gl1, gv1, jor1) = goles_loc_vis('https://resultados.as.com/resultados/futbol/primera/2016_2017/calendario/',38)"
   ]
  },
  {
   "cell_type": "code",
   "execution_count": 4,
   "metadata": {},
   "outputs": [
    {
     "name": "stdout",
     "output_type": "stream",
     "text": [
      "Number of (Local goals, away goals): \n",
      "\n",
      "615 428\n"
     ]
    }
   ],
   "source": [
    "#Function applied to the Spanish Division 2015-16 League\n",
    "\n",
    "(gl2, gv2, jor2) = goles_loc_vis('https://resultados.as.com/resultados/futbol/primera/2015_2016/calendario/', 38)"
   ]
  },
  {
   "cell_type": "code",
   "execution_count": 5,
   "metadata": {},
   "outputs": [
    {
     "name": "stdout",
     "output_type": "stream",
     "text": [
      "Number of (Local goals, away goals): \n",
      "\n",
      "567 459\n"
     ]
    }
   ],
   "source": [
    "#Function applied to the Premier League 2015-16 \n",
    "\n",
    "(gl3, gv3, jor3) = goles_loc_vis('https://resultados.as.com/resultados/futbol/inglaterra/2015_2016/calendario/',38)"
   ]
  },
  {
   "cell_type": "code",
   "execution_count": 6,
   "metadata": {},
   "outputs": [
    {
     "name": "stdout",
     "output_type": "stream",
     "text": [
      "Number of (Local goals, away goals): \n",
      "\n",
      "633 490\n"
     ]
    }
   ],
   "source": [
    "#Function applied to the Serie A 2016-17 \n",
    "\n",
    "\n",
    "(gl4, gv4, jor4) = goles_loc_vis('https://resultados.as.com/resultados/futbol/italia/2016_2017/calendario/',38)"
   ]
  },
  {
   "cell_type": "code",
   "execution_count": 7,
   "metadata": {},
   "outputs": [
    {
     "name": "stdout",
     "output_type": "stream",
     "text": [
      "Number of (Local goals, away goals): \n",
      "\n",
      "546 414\n"
     ]
    }
   ],
   "source": [
    "#Function applied to the Ligue 1 2015-16 \n",
    "\n",
    "(gl5,gv4, jor5) = goles_loc_vis('https://resultados.as.com/resultados/futbol/francia/2015_2016/calendario/',38)"
   ]
  },
  {
   "cell_type": "code",
   "execution_count": 8,
   "metadata": {},
   "outputs": [
    {
     "name": "stdout",
     "output_type": "stream",
     "text": [
      "Number of (Local goals, away goals): \n",
      "\n",
      "461 337\n"
     ]
    }
   ],
   "source": [
    "#Function applied to the Spanish Division 2017-18 League (only 30 matchdays)\n",
    "\n",
    "(gl6,gv6,jor6) = goles_loc_vis ('https://resultados.as.com/resultados/futbol/primera/calendario/',30)\n"
   ]
  },
  {
   "cell_type": "markdown",
   "metadata": {},
   "source": [
    "Next, we present another function. This one calculates the number of wins from home and away teams and the number of draws in a particular season. The input of this function is a list of lists (as obtained with the previous function)."
   ]
  },
  {
   "cell_type": "code",
   "execution_count": 9,
   "metadata": {},
   "outputs": [],
   "source": [
    "def count_loc_aw_wins(lst):\n",
    "    home_wins = 0\n",
    "    away_wins = 0\n",
    "    draws = 0\n",
    "    num_jor = len(lst) \n",
    "    leng = len(lst[0].index) # number of games per matchday\n",
    "    for i in range(0, num_jor-1):\n",
    "         for j in range(0,leng):\n",
    "            if lst[i].at[j,'GL'] > lst[i].at[j,'GV']:\n",
    "                home_wins = home_wins + 1\n",
    "            elif lst[i].at[j,'GL'] < lst[i].at[j,'GV']:\n",
    "                away_wins = away_wins + 1\n",
    "            else:\n",
    "                draws = draws + 1\n",
    "    print ('\\n The number of Home Wins is ', home_wins)\n",
    "    print ('\\n The number of Away Wins is ', away_wins)\n",
    "    print ('\\n The number of Draws is ', draws)\n",
    "    \n",
    "    return\n",
    "    \n",
    "                "
   ]
  },
  {
   "cell_type": "code",
   "execution_count": 10,
   "metadata": {},
   "outputs": [
    {
     "data": {
      "text/plain": [
       "10"
      ]
     },
     "execution_count": 10,
     "metadata": {},
     "output_type": "execute_result"
    }
   ],
   "source": [
    "len(jor3[1].index)"
   ]
  },
  {
   "cell_type": "code",
   "execution_count": 11,
   "metadata": {},
   "outputs": [
    {
     "name": "stdout",
     "output_type": "stream",
     "text": [
      "\n",
      " The number of Home Wins is  177\n",
      "\n",
      " The number of Away Wins is  107\n",
      "\n",
      " The number of Draws is  86\n"
     ]
    }
   ],
   "source": [
    "#Function applied to the Spanish Division 2016-17 League\n",
    "\n",
    "count_loc_aw_wins(jor1)"
   ]
  },
  {
   "cell_type": "code",
   "execution_count": 12,
   "metadata": {},
   "outputs": [
    {
     "name": "stdout",
     "output_type": "stream",
     "text": [
      "\n",
      " The number of Home Wins is  176\n",
      "\n",
      " The number of Away Wins is  102\n",
      "\n",
      " The number of Draws is  92\n"
     ]
    }
   ],
   "source": [
    "#Function applied to the Spanish Division 2015-16 League\n",
    "\n",
    "count_loc_aw_wins(jor2)"
   ]
  },
  {
   "cell_type": "code",
   "execution_count": 13,
   "metadata": {},
   "outputs": [
    {
     "name": "stdout",
     "output_type": "stream",
     "text": [
      "\n",
      " The number of Home Wins is  151\n",
      "\n",
      " The number of Away Wins is  116\n",
      "\n",
      " The number of Draws is  103\n"
     ]
    }
   ],
   "source": [
    "#Function applied to the Premier League 2015-16 \n",
    "\n",
    "count_loc_aw_wins(jor3)"
   ]
  },
  {
   "cell_type": "code",
   "execution_count": 14,
   "metadata": {},
   "outputs": [
    {
     "name": "stdout",
     "output_type": "stream",
     "text": [
      "\n",
      " The number of Home Wins is  178\n",
      "\n",
      " The number of Away Wins is  113\n",
      "\n",
      " The number of Draws is  79\n"
     ]
    }
   ],
   "source": [
    "#Function applied to the Serie A 2016-17 \n",
    "\n",
    "count_loc_aw_wins(jor4)"
   ]
  },
  {
   "cell_type": "code",
   "execution_count": 15,
   "metadata": {},
   "outputs": [
    {
     "name": "stdout",
     "output_type": "stream",
     "text": [
      "\n",
      " The number of Home Wins is  155\n",
      "\n",
      " The number of Away Wins is  108\n",
      "\n",
      " The number of Draws is  107\n"
     ]
    }
   ],
   "source": [
    "#Function applied to the Ligue 1 2015-16 \n",
    "\n",
    "count_loc_aw_wins(jor5)"
   ]
  },
  {
   "cell_type": "code",
   "execution_count": 16,
   "metadata": {},
   "outputs": [
    {
     "name": "stdout",
     "output_type": "stream",
     "text": [
      "\n",
      " The number of Home Wins is  139\n",
      "\n",
      " The number of Away Wins is  86\n",
      "\n",
      " The number of Draws is  65\n"
     ]
    }
   ],
   "source": [
    "#Function applied to the Spanish Division 2017-18 League (only 30 matchdays)\n",
    "\n",
    "count_loc_aw_wins(jor6)"
   ]
  },
  {
   "cell_type": "markdown",
   "metadata": {},
   "source": [
    "Next, we have another function that counts the top scorer team from each of the matchdays, both considering and without considering the home and away topscorer for each matchday. \n",
    "\n",
    "Then, we can see the teams that were the topscorers in more matchdays.\n",
    "\n",
    "We considered the h and a topscorers to represent the cases when a team scores a lot of goals away but another team scored more at home."
   ]
  },
  {
   "cell_type": "code",
   "execution_count": 17,
   "metadata": {},
   "outputs": [],
   "source": [
    "from collections import Counter\n",
    "\n",
    "\n",
    "def top_scorers(lst):\n",
    "    num_jor = len(lst)\n",
    "    top_home_season = []\n",
    "    top_away_season = []\n",
    "    total_h_a = []\n",
    "    total = []\n",
    "    for i in range(0, num_jor-1):\n",
    "        df = lst[i]\n",
    "        top_home = df.loc[df['GL'].idxmax()][0]\n",
    "        top_away = df.loc[df['GV'].idxmax()][3]\n",
    "        top_home_season.append(top_home)\n",
    "        top_away_season.append(top_away)\n",
    "        #----total_h_a: considering the topscorer home and away from each matchday-----\n",
    "        total_h_a.append(top_home)\n",
    "        total_h_a.append(top_away)\n",
    "        \n",
    "        #----total: without considering home or away.---\n",
    "        if top_home > top_away:\n",
    "            total.append(top_home)\n",
    "        elif top_home < top_away:\n",
    "            total.append(top_away)\n",
    "        else:\n",
    "            total.append(top_home)\n",
    "            total.append(top_away)\n",
    "   \n",
    "    #print ('\\n Top scorers home: \\n',top_home_season)\n",
    "    #print ('\\n Top scorers away: \\n',top_away_season) \n",
    "    #print ('\\n\\n Top scorers Total: \\n',total)     \n",
    "    \n",
    "    print ('\\nThese teams were the top scorers: \\n ', Counter(total))\n",
    "    print ('\\n\\n \\nThese teams were the top scorers(considering home and away topscorers each matchday): \\n ', Counter(total_h_a))\n",
    "    print('\\n Home topscorers', Counter(top_home_season))\n",
    "    print('\\n Away topscorers', Counter(top_away_season))\n",
    "\n",
    "    return "
   ]
  },
  {
   "cell_type": "code",
   "execution_count": 18,
   "metadata": {},
   "outputs": [
    {
     "name": "stdout",
     "output_type": "stream",
     "text": [
      "\n",
      "These teams were the top scorers: \n",
      "  Counter({' Real Madrid': 12, ' Eibar': 5, ' Sevilla': 4, ' Málaga': 3, ' Barcelona': 2, ' R. Sociedad': 2, ' Villarreal': 2, ' Espanyol': 1, ' Celta': 1, ' Sporting': 1, ' Deportivo': 1, ' Granada': 1, ' Las Palmas': 1, ' Valencia': 1})\n",
      "\n",
      "\n",
      " \n",
      "These teams were the top scorers(considering home and away topscorers each matchday): \n",
      "  Counter({' Barcelona': 17, ' Real Madrid': 13, ' Atlético': 6, ' Sevilla': 6, ' Eibar': 5, ' Málaga': 4, ' Celta': 4, ' Espanyol': 3, ' Athletic': 3, ' Las Palmas': 2, ' R. Sociedad': 2, ' Deportivo': 2, ' Villarreal': 2, ' Sporting': 1, ' Betis': 1, ' Granada': 1, ' Leganés': 1, ' Valencia': 1})\n",
      "\n",
      " Home topscorers Counter({' Barcelona': 9, ' Real Madrid': 4, ' Atlético': 3, ' Málaga': 3, ' Sevilla': 3, ' R. Sociedad': 2, ' Athletic': 2, ' Celta': 2, ' Espanyol': 2, ' Eibar': 2, ' Las Palmas': 1, ' Betis': 1, ' Deportivo': 1, ' Granada': 1, ' Leganés': 1})\n",
      "\n",
      " Away topscorers Counter({' Real Madrid': 9, ' Barcelona': 8, ' Atlético': 3, ' Eibar': 3, ' Sevilla': 3, ' Celta': 2, ' Villarreal': 2, ' Espanyol': 1, ' Málaga': 1, ' Athletic': 1, ' Sporting': 1, ' Deportivo': 1, ' Las Palmas': 1, ' Valencia': 1})\n"
     ]
    }
   ],
   "source": [
    "#Function applied to the Spanish Division 2016-17 League\n",
    "\n",
    "top_scorers(jor1)"
   ]
  },
  {
   "cell_type": "code",
   "execution_count": 19,
   "metadata": {},
   "outputs": [
    {
     "name": "stdout",
     "output_type": "stream",
     "text": [
      "\n",
      "These teams were the top scorers: \n",
      "  Counter({' Real Madrid': 13, ' Espanyol': 3, ' R. Sociedad': 3, ' Granada': 3, ' Sevilla': 2, ' Sporting': 2, ' Barcelona': 2, ' Levante': 2, ' Villarreal': 2, ' Valencia': 1, ' Deportivo': 1, ' Málaga': 1, ' Rayo': 1, ' Las Palmas': 1})\n",
      "\n",
      "\n",
      " \n",
      "These teams were the top scorers(considering home and away topscorers each matchday): \n",
      "  Counter({' Barcelona': 18, ' Real Madrid': 13, ' Atlético': 7, ' Espanyol': 4, ' R. Sociedad': 4, ' Málaga': 4, ' Eibar': 3, ' Rayo': 3, ' Granada': 3, ' Athletic': 2, ' Celta': 2, ' Sevilla': 2, ' Sporting': 2, ' Levante': 2, ' Villarreal': 2, ' Valencia': 1, ' Deportivo': 1, ' Las Palmas': 1})\n",
      "\n",
      " Home topscorers Counter({' Barcelona': 10, ' Real Madrid': 9, ' Málaga': 3, ' Sevilla': 2, ' Atlético': 2, ' Granada': 2, ' Espanyol': 1, ' Athletic': 1, ' Celta': 1, ' Eibar': 1, ' R. Sociedad': 1, ' Sporting': 1, ' Levante': 1, ' Villarreal': 1, ' Las Palmas': 1})\n",
      "\n",
      " Away topscorers Counter({' Barcelona': 8, ' Atlético': 5, ' Real Madrid': 4, ' Espanyol': 3, ' R. Sociedad': 3, ' Rayo': 3, ' Eibar': 2, ' Sporting': 1, ' Celta': 1, ' Valencia': 1, ' Athletic': 1, ' Deportivo': 1, ' Levante': 1, ' Málaga': 1, ' Villarreal': 1, ' Granada': 1})\n"
     ]
    }
   ],
   "source": [
    "#Function applied to the Spanish Division 2015-16 League\n",
    "\n",
    "top_scorers(jor2)"
   ]
  },
  {
   "cell_type": "code",
   "execution_count": 20,
   "metadata": {},
   "outputs": [
    {
     "name": "stdout",
     "output_type": "stream",
     "text": [
      "\n",
      "These teams were the top scorers: \n",
      "  Counter({' Liverpool': 6, ' Tottenham': 5, ' Leicester': 4, ' M. City': 3, ' West Ham': 3, ' Southampton': 3, ' M. United': 2, ' Watford': 2, ' Sunderland': 2, ' Swansea City': 2, ' Everton': 1, ' Newcastle': 1, ' Stoke City': 1, ' Norwich City': 1, ' Chelsea': 1})\n",
      "\n",
      "\n",
      " \n",
      "These teams were the top scorers(considering home and away topscorers each matchday): \n",
      "  Counter({' Everton': 7, ' Liverpool': 7, ' M. City': 6, ' Chelsea': 6, ' Arsenal': 6, ' Southampton': 5, ' Tottenham': 5, ' Leicester': 4, ' M. United': 4, ' Sunderland': 4, ' Crystal Palace': 3, ' West Ham': 3, ' Bournemouth': 3, ' Newcastle': 3, ' Aston Villa': 2, ' Watford': 2, ' Swansea City': 2, ' Stoke City': 1, ' Norwich City': 1})\n",
      "\n",
      " Home topscorers Counter({' M. City': 6, ' Everton': 4, ' Southampton': 3, ' Chelsea': 3, ' Newcastle': 3, ' Sunderland': 3, ' Liverpool': 3, ' Tottenham': 2, ' M. United': 2, ' Arsenal': 2, ' Leicester': 1, ' West Ham': 1, ' Crystal Palace': 1, ' Norwich City': 1, ' Aston Villa': 1, ' Bournemouth': 1})\n",
      "\n",
      " Away topscorers Counter({' Arsenal': 4, ' Liverpool': 4, ' Everton': 3, ' Tottenham': 3, ' Leicester': 3, ' Chelsea': 3, ' Crystal Palace': 2, ' Bournemouth': 2, ' West Ham': 2, ' M. United': 2, ' Southampton': 2, ' Watford': 2, ' Swansea City': 2, ' Aston Villa': 1, ' Stoke City': 1, ' Sunderland': 1})\n"
     ]
    }
   ],
   "source": [
    "#Function applied to the Premier League 2015-16 \n",
    "\n",
    "top_scorers(jor3)"
   ]
  },
  {
   "cell_type": "code",
   "execution_count": 21,
   "metadata": {},
   "outputs": [
    {
     "name": "stdout",
     "output_type": "stream",
     "text": [
      "\n",
      "These teams were the top scorers: \n",
      "  Counter({' Roma': 10, ' Torino': 6, ' Nápoles': 4, ' Milan': 4, ' Lazio': 3, ' Juventus': 3, ' Sassuolo': 2, ' Palermo': 1, ' Genoa': 1, ' Pescara': 1, ' Sampdoria': 1, ' Udinese': 1})\n",
      "\n",
      "\n",
      " \n",
      "These teams were the top scorers(considering home and away topscorers each matchday): \n",
      "  Counter({' Roma': 11, ' Nápoles': 8, ' Juventus': 7, ' Lazio': 6, ' Torino': 6, ' Fiorentina': 5, ' Milan': 5, ' Atalanta': 4, ' Inter': 4, ' Cagliari': 3, ' Genoa': 2, ' Crotone': 2, ' Sassuolo': 2, ' Pescara': 2, ' Bolonia': 2, ' Chievo': 1, ' Empoli': 1, ' Palermo': 1, ' Sampdoria': 1, ' Udinese': 1})\n",
      "\n",
      " Home topscorers Counter({' Juventus': 7, ' Roma': 5, ' Torino': 4, ' Lazio': 3, ' Cagliari': 3, ' Milan': 2, ' Inter': 2, ' Nápoles': 2, ' Crotone': 2, ' Bolonia': 2, ' Atalanta': 1, ' Pescara': 1, ' Sampdoria': 1, ' Fiorentina': 1, ' Sassuolo': 1})\n",
      "\n",
      " Away topscorers Counter({' Nápoles': 6, ' Roma': 6, ' Fiorentina': 4, ' Lazio': 3, ' Atalanta': 3, ' Milan': 3, ' Genoa': 2, ' Torino': 2, ' Inter': 2, ' Chievo': 1, ' Empoli': 1, ' Palermo': 1, ' Sassuolo': 1, ' Pescara': 1, ' Udinese': 1})\n"
     ]
    }
   ],
   "source": [
    "#Function applied to the Serie A 2016-17 \n",
    "\n",
    "top_scorers(jor4)"
   ]
  },
  {
   "cell_type": "code",
   "execution_count": 22,
   "metadata": {},
   "outputs": [
    {
     "name": "stdout",
     "output_type": "stream",
     "text": [
      "\n",
      "These teams were the top scorers: \n",
      "  Counter({' PSG': 11, ' Toulouse': 6, ' Rennes': 4, ' Niza': 3, ' Troyes': 2, ' Stade de Reims': 2, ' Marsella': 2, ' Saint-Etienne': 2, ' Montpellier': 2, ' Bastia': 1, ' Lyon': 1, ' Mónaco': 1})\n",
      "\n",
      "\n",
      " \n",
      "These teams were the top scorers(considering home and away topscorers each matchday): \n",
      "  Counter({' PSG': 15, ' Lyon': 7, ' Bastia': 6, ' Niza': 6, ' Toulouse': 6, ' Rennes': 4, ' Marsella': 3, ' Guingamp': 3, ' Montpellier': 3, ' Girondins': 3, ' Angers': 2, ' Troyes': 2, ' Stade de Reims': 2, ' Caen': 2, ' Mónaco': 2, ' Lorient': 2, ' Nantes': 2, ' Saint-Etienne': 2, ' Lille': 2})\n",
      "\n",
      " Home topscorers Counter({' PSG': 9, ' Bastia': 5, ' Lyon': 4, ' Niza': 3, ' Toulouse': 3, ' Marsella': 2, ' Stade de Reims': 2, ' Guingamp': 2, ' Troyes': 1, ' Lorient': 1, ' Nantes': 1, ' Saint-Etienne': 1, ' Girondins': 1, ' Angers': 1, ' Montpellier': 1})\n",
      "\n",
      " Away topscorers Counter({' PSG': 6, ' Rennes': 4, ' Niza': 3, ' Lyon': 3, ' Toulouse': 3, ' Caen': 2, ' Mónaco': 2, ' Montpellier': 2, ' Girondins': 2, ' Lille': 2, ' Angers': 1, ' Nantes': 1, ' Lorient': 1, ' Troyes': 1, ' Marsella': 1, ' Saint-Etienne': 1, ' Guingamp': 1, ' Bastia': 1})\n"
     ]
    }
   ],
   "source": [
    "#Function applied to the Ligue 1 2015-16 \n",
    "\n",
    "top_scorers(jor5)"
   ]
  },
  {
   "cell_type": "code",
   "execution_count": 23,
   "metadata": {},
   "outputs": [
    {
     "name": "stdout",
     "output_type": "stream",
     "text": [
      "\n",
      "These teams were the top scorers: \n",
      "  Counter({' Real Madrid': 9, ' R. Sociedad': 4, ' Valencia': 4, ' Eibar': 3, ' Villarreal': 2, ' Barcelona': 2, ' Sevilla': 2, ' Espanyol': 1, ' Girona': 1, ' Betis': 1})\n",
      "\n",
      "\n",
      " \n",
      "These teams were the top scorers(considering home and away topscorers each matchday): \n",
      "  Counter({' Real Madrid': 10, ' Barcelona': 7, ' R. Sociedad': 6, ' Atlético': 6, ' Betis': 5, ' Girona': 5, ' Valencia': 4, ' Celta': 3, ' Eibar': 3, ' Villarreal': 2, ' Sevilla': 2, ' Espanyol': 1, ' Deportivo': 1, ' Getafe': 1, ' Alavés': 1, ' Athletic': 1})\n",
      "\n",
      " Home topscorers Counter({' Real Madrid': 6, ' Barcelona': 4, ' R. Sociedad': 3, ' Eibar': 3, ' Betis': 2, ' Valencia': 2, ' Sevilla': 2, ' Girona': 2, ' Atlético': 2, ' Celta': 1, ' Espanyol': 1, ' Villarreal': 1})\n",
      "\n",
      " Away topscorers Counter({' Atlético': 4, ' Real Madrid': 4, ' R. Sociedad': 3, ' Betis': 3, ' Girona': 3, ' Barcelona': 3, ' Celta': 2, ' Valencia': 2, ' Villarreal': 1, ' Deportivo': 1, ' Getafe': 1, ' Alavés': 1, ' Athletic': 1})\n"
     ]
    }
   ],
   "source": [
    "#Function applied to the Spanish Division 2017-18 League (only 30 matchdays)\n",
    "\n",
    "top_scorers(jor6)"
   ]
  },
  {
   "cell_type": "code",
   "execution_count": null,
   "metadata": {},
   "outputs": [],
   "source": []
  },
  {
   "cell_type": "code",
   "execution_count": null,
   "metadata": {},
   "outputs": [],
   "source": []
  }
 ],
 "metadata": {
  "kernelspec": {
   "display_name": "Python 3",
   "language": "python",
   "name": "python3"
  },
  "language_info": {
   "codemirror_mode": {
    "name": "ipython",
    "version": 3
   },
   "file_extension": ".py",
   "mimetype": "text/x-python",
   "name": "python",
   "nbconvert_exporter": "python",
   "pygments_lexer": "ipython3",
   "version": "3.6.4"
  }
 },
 "nbformat": 4,
 "nbformat_minor": 2
}
